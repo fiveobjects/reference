{
 "cells": [
  {
   "cell_type": "code",
   "execution_count": 45,
   "metadata": {},
   "outputs": [
    {
     "name": "stdout",
     "output_type": "stream",
     "text": [
      "Students whose marks are between 25th % and 75th % are:-\n",
      "[{'student': 'e', 'marks': 34}, {'student': 'f', 'marks': 45}, {'student': 'c', 'marks': 50}, {'student': 'h', 'marks': 50}, {'student': 'g', 'marks': 87}, {'student': 'i', 'marks': 90}, {'student': 'd', 'marks': 100}]\n"
     ]
    }
   ],
   "source": [
    "import pandas as pd\n",
    "student_list=['a', 'b','c', 'd', 'e', 'f', 'g', 'h', 'i', 'j']\n",
    "marks_list=[18, 45, 50, 100, 34, 45, 87, 50, 90, 26]\n",
    "df=pd.DataFrame({'student':student_list,'marks':marks_list})\n",
    "sorte=df.sort_values('marks',ascending=False)\n",
    "per_25=round(0.25*len(marks_list))\n",
    "per_75=round(0.75*len(marks_list))\n",
    "sor=df.sort_values('marks')\n",
    "sor = sor.loc[(sor.index >= per_25) & (sor.index <= per_75)]\n",
    "new_dict = sor.to_dict('records')\n",
    "print(\"Students whose marks are between 25th % and 75th % are:-\")\n",
    "print(new_dict)"
   ]
  },
  {
   "cell_type": "code",
   "execution_count": null,
   "metadata": {},
   "outputs": [],
   "source": []
  }
 ],
 "metadata": {
  "kernelspec": {
   "display_name": "Python 3",
   "language": "python",
   "name": "python3"
  },
  "language_info": {
   "codemirror_mode": {
    "name": "ipython",
    "version": 3
   },
   "file_extension": ".py",
   "mimetype": "text/x-python",
   "name": "python",
   "nbconvert_exporter": "python",
   "pygments_lexer": "ipython3",
   "version": "3.7.4"
  }
 },
 "nbformat": 4,
 "nbformat_minor": 2
}
